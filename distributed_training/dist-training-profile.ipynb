{
 "cells": [
  {
   "cell_type": "markdown",
   "metadata": {},
   "source": [
    "# SageMaker Studioで深層学習モデルの学習を加速・コスト最適化する\n",
    "\n",
    "データ量が増えてきて、深層学習モデルの学習に時間がかかりすぎていませんか？\n",
    "\n",
    "このノートブックでは、深層学習モデルの学習にかかる時間とコストを最適化する手順を、SageMaker Data Parallelism LibraryとSageMaker Debuggerを使いながらご紹介します。\n",
    "\n",
    "SageMaker Data Parallelism Libraryは、AWS上での分散学習実行に最適化されているため、HorovodやPyTorch DDPなどの他の分散学習フレームワークに比べて並列化効率がより高いことが証明されています。\n",
    "\n",
    "今回は、例としてMask RCNNモデルに[COCO2017データセット](https://cocodataset.org/#home)をゼロから学習するのにかかる時間とコストのトレードオフを見ていきます。\n",
    "\n",
    "なお、このノートブックはSageMaker Studio上のPython 3 (PyTorch 1.6 Python 3.6 GPU Optimized)環境で動作確認をしております。\n",
    "\n",
    "他のフレームワークやモデルでの分散学習のスクリプトは[こちら](https://github.com/HerringForks/DeepLearningExamples)を参照してください。"
   ]
  },
  {
   "cell_type": "markdown",
   "metadata": {},
   "source": [
    "## 学習時間と課金額のトレードオフでトータルコスト最適化を考える\n",
    "\n",
    "SageMaker上で分散学習を実施することで、時間とお金のトレードオフがコントロールできるようになります。\n",
    "\n",
    "インスタンスの使用料金をPドル/時、学習にかかる時間をT時間、並列化効率(インスタンス x個で学習時間がx倍にどれくらい近くなるか)をS%として、１個のインスタンス（またはGPU）からN個のインスタンス（またはGPU）に分散学習する場合を考えてみましょう。\n",
    "\n",
    "学習にかかる時間はT時間から(T/N)/S時間に減り、インスタンス使用料金はT * Pドルから(T/N)/S * P * N = T/S * Pドルへ（S = 1、すなわち並列化効率100%とならない限りは）増加します。並列化効率が十分高ければ、大幅な学習時間短縮を少ない金額の増加で買うことができる、というわけです。コストを時間とお金と捉えると、分散学習が１つのコスト最適化のツールとなり、かつ並列化効率がそのトレードオフを決定する重要な要因であることがご理解いただけると思います。\n",
    "\n",
    "例えば、p3.2xlargeインスタンスで24時間学習に時間を取られている場合、8つのインスタンスに90%の並列化効率で分散学習が実現できれば、時間とコストは以下のように変化します。\n",
    "\n",
    "分散学習なしでは24 * 3.825 = 91.8ドル（us-west-2リージョンで[SageMaker Savings Plan](https://aws.amazon.com/about-aws/whats-new/2021/04/amazon-sagemaker-announces-a-price-reduction-in-instances-and-sagemaker-savings-plan/)を使用しない場合）のお金と24時間という時間がかかります。\n",
    "\n",
    "上記の条件で分散学習をすると、24/0.9 * 3.825 = 102ドルのお金と24/8/0.9 = 3.33時間という時間になります。\n",
    "\n",
    "約11%の金額増加で約86%も学習時間を短縮できるのです。どちらのトータルコストが良いかどうかは、ビジネス上で深層学習のモデル学習時間短縮がどれくらい重要かによります。しかし、モデルを何度も再学習する必要に迫られる中で、これからデータ量が増えていくことが予測されるならば、分散学習というツールを１つの選択肢として持っておくのは悪くないかもしれません。\n",
    "\n",
    "※この例だと、p3.2xlargeインスタンスを８個のインスタンスにスケールアウトする他に、8個のGPUをもつp3.16xlargeインスタンスを1個使うという方法もあります。これも同様に今回紹介する分散学習の手法としては変わりません。"
   ]
  },
  {
   "cell_type": "markdown",
   "metadata": {},
   "source": [
    "### 分散学習すべきかを判断するには並列化効率が鍵\n",
    "\n",
    "分散学習をする上で、鍵となるのは並列化効率です。どのくらいの並列化効率があれば、\n",
    "\n",
    "実際に現在の深層学習モデルの学習にかかっている時間とインスタンスの料金をもとに、トータルコストをシミュレーションしてみましょう。\n",
    "\n",
    "SageMakerインスタンスの料金は[こちら](https://aws.amazon.com/jp/sagemaker/pricing/?nc1=h_ls)を参照してください。\n",
    "\n",
    "これで目指すべき並列化効率が求められます。"
   ]
  },
  {
   "cell_type": "code",
   "execution_count": 21,
   "metadata": {},
   "outputs": [],
   "source": [
    "import numpy as np\n",
    "import matplotlib.pyplot as plt"
   ]
  },
  {
   "cell_type": "code",
   "execution_count": 68,
   "metadata": {},
   "outputs": [],
   "source": [
    "# 学習に何時間かかっているか\n",
    "TRAINING_TIME = 24\n",
    "\n",
    "# インスタンスに時間あたり何ドルかかっているか\n",
    "INSTANCE_PRICE = 3.825\n",
    "\n",
    "# 何個インスタンスを使うか\n",
    "NUM_INSTANCES = 8\n",
    "\n",
    "# １時間学習が長くなることによる機会費用 (トータルコストをドルで統一するため)\n",
    "TIME_VALUE = 3"
   ]
  },
  {
   "cell_type": "code",
   "execution_count": 65,
   "metadata": {},
   "outputs": [],
   "source": [
    "def before_total_cost(T, P, weight):\n",
    "    # トータルコスト = お金 + 時間\n",
    "    return T * P + T * weight\n",
    "\n",
    "def after_total_cost(T, P, N, weight, S):\n",
    "    return T/S * P + T/N/S * weight"
   ]
  },
  {
   "cell_type": "code",
   "execution_count": 93,
   "metadata": {},
   "outputs": [],
   "source": [
    "def plot_simulation(T, P, N, weight):\n",
    "    '''\n",
    "    横軸: 並列化効率\n",
    "    縦軸: トータルコスト（ドル）\n",
    "    分散学習をする場合、最低でもどのくらいの並列化効率が必要かをグラフから目安をつける\n",
    "    '''\n",
    "    # 並列化効率を10% ~ 100%までシミュレーション\n",
    "    scaling_efficiencies = list(np.arange(0.10, 1.01, 0.01))\n",
    "    \n",
    "    before = []\n",
    "    after = []\n",
    "    for S in scaling_efficiencies:\n",
    "        before_cost = before_total_cost(TRAINING_TIME, INSTANCE_PRICE, TIME_VALUE)\n",
    "        before.append(before_cost)\n",
    "        after_cost = after_total_cost(TRAINING_TIME, INSTANCE_PRICE, NUM_INSTANCES, TIME_VALUE, S)\n",
    "        after.append(after_cost)\n",
    "        if round(S*100) % 10 == 0:\n",
    "            is_cost_lower = after_cost < before_cost\n",
    "            cost_diff = abs((after_cost - before_cost) / before_cost) * 100\n",
    "            up = \"上がる\"\n",
    "            down = \"下がる\"\n",
    "            print(f\"並列化効率 {S*100:.1f}%でトータルコストは{cost_diff:.3f}% {down if is_cost_lower else up}\")\n",
    "    print()\n",
    "    plt.plot(scaling_efficiencies, before, label=\"before\")\n",
    "    plt.plot(scaling_efficiencies, after, label=\"after\")\n",
    "    plt.legend()"
   ]
  },
  {
   "cell_type": "code",
   "execution_count": 94,
   "metadata": {},
   "outputs": [
    {
     "name": "stdout",
     "output_type": "stream",
     "text": [
      "並列化効率 10.0%でトータルコストは515.385% 上がる\n",
      "並列化効率 20.0%でトータルコストは207.692% 上がる\n",
      "並列化効率 30.0%でトータルコストは105.128% 上がる\n",
      "並列化効率 40.0%でトータルコストは53.846% 上がる\n",
      "並列化効率 50.0%でトータルコストは23.077% 上がる\n",
      "並列化効率 60.0%でトータルコストは2.564% 上がる\n",
      "並列化効率 70.0%でトータルコストは12.088% 下がる\n",
      "並列化効率 80.0%でトータルコストは23.077% 下がる\n",
      "並列化効率 90.0%でトータルコストは31.624% 下がる\n",
      "並列化効率 100.0%でトータルコストは38.462% 下がる\n",
      "\n"
     ]
    },
    {
     "data": {
      "image/png": "[encoded data removed]",
      "text/plain": [
       "<Figure size 432x288 with 1 Axes>"
      ]
     },
     "metadata": {
      "needs_background": "light"
     },
     "output_type": "display_data"
    }
   ],
   "source": [
    "plot_simulation(TRAINING_TIME, INSTANCE_PRICE, NUM_INSTANCES, TIME_VALUE)"
   ]
  },
  {
   "cell_type": "markdown",
   "metadata": {},
   "source": [
    "この例だと、1時間学習時間が長くなることで平均３ドルほどの機会費用が発生すると仮定してみると、最低でも並列化効率が60%トータルコストは下がらないことがわかります。逆に、"
   ]
  },
  {
   "cell_type": "markdown",
   "metadata": {},
   "source": [
    "## 0. 準備\n",
    "\n",
    "- SageMaker Data Parallel Libraryを使用する場合、ml.p3.16xlarge, ml.p3dn.24xlarge [推奨], ml.p4d.24xlarge [推奨]の３種類のインスタンスに対応しています。必要に応じて、上限申請をしてください。\n",
    "\n",
    "- このデモはSageMaker Studio上で実行してください。\n",
    "\n",
    "- このデモは以下のIAM権限が必要です。SageMaker Studioのユーザーがこの権限を持っていることを確かめて進めてください。"
   ]
  },
  {
   "cell_type": "code",
   "execution_count": 95,
   "metadata": {},
   "outputs": [
    {
     "name": "stdout",
     "output_type": "stream",
     "text": [
      "Requirement already satisfied: sagemaker in /opt/conda/lib/python3.6/site-packages (2.35.0)\n",
      "Collecting sagemaker\n",
      "  Downloading sagemaker-2.41.0.tar.gz (412 kB)\n",
      "\u001b[K     |████████████████████████████████| 412 kB 8.3 MB/s eta 0:00:01\n",
      "\u001b[?25hRequirement already satisfied: attrs in /opt/conda/lib/python3.6/site-packages (from sagemaker) (20.3.0)\n",
      "Requirement already satisfied: boto3>=1.16.32 in /opt/conda/lib/python3.6/site-packages (from sagemaker) (1.17.52)\n",
      "Requirement already satisfied: google-pasta in /opt/conda/lib/python3.6/site-packages (from sagemaker) (0.2.0)\n",
      "Requirement already satisfied: numpy>=1.9.0 in /opt/conda/lib/python3.6/site-packages (from sagemaker) (1.19.1)\n",
      "Requirement already satisfied: protobuf>=3.1 in /opt/conda/lib/python3.6/site-packages (from sagemaker) (3.15.8)\n",
      "Requirement already satisfied: protobuf3-to-dict>=0.1.5 in /opt/conda/lib/python3.6/site-packages (from sagemaker) (0.1.5)\n",
      "Requirement already satisfied: smdebug_rulesconfig==1.0.1 in /opt/conda/lib/python3.6/site-packages (from sagemaker) (1.0.1)\n",
      "Requirement already satisfied: importlib-metadata>=1.4.0 in /opt/conda/lib/python3.6/site-packages (from sagemaker) (3.2.0)\n",
      "Requirement already satisfied: packaging>=20.0 in /opt/conda/lib/python3.6/site-packages (from sagemaker) (20.9)\n",
      "Requirement already satisfied: pandas in /opt/conda/lib/python3.6/site-packages (from sagemaker) (1.1.5)\n",
      "Collecting pathos\n",
      "  Downloading pathos-0.2.7-py2.py3-none-any.whl (81 kB)\n",
      "\u001b[K     |████████████████████████████████| 81 kB 1.3 MB/s  eta 0:00:01\n",
      "\u001b[?25hRequirement already satisfied: jmespath<1.0.0,>=0.7.1 in /opt/conda/lib/python3.6/site-packages (from boto3>=1.16.32->sagemaker) (0.10.0)\n",
      "Requirement already satisfied: botocore<1.21.0,>=1.20.52 in /opt/conda/lib/python3.6/site-packages (from boto3>=1.16.32->sagemaker) (1.20.52)\n",
      "Requirement already satisfied: s3transfer<0.4.0,>=0.3.0 in /opt/conda/lib/python3.6/site-packages (from boto3>=1.16.32->sagemaker) (0.3.7)\n",
      "Requirement already satisfied: urllib3<1.27,>=1.25.4 in /opt/conda/lib/python3.6/site-packages (from botocore<1.21.0,>=1.20.52->boto3>=1.16.32->sagemaker) (1.25.11)\n",
      "Requirement already satisfied: python-dateutil<3.0.0,>=2.1 in /opt/conda/lib/python3.6/site-packages (from botocore<1.21.0,>=1.20.52->boto3>=1.16.32->sagemaker) (2.8.1)\n",
      "Requirement already satisfied: zipp>=0.5 in /opt/conda/lib/python3.6/site-packages (from importlib-metadata>=1.4.0->sagemaker) (3.4.1)\n",
      "Requirement already satisfied: typing-extensions>=3.6.4 in /opt/conda/lib/python3.6/site-packages (from importlib-metadata>=1.4.0->sagemaker) (3.7.4.3)\n",
      "Requirement already satisfied: pyparsing>=2.0.2 in /opt/conda/lib/python3.6/site-packages (from packaging>=20.0->sagemaker) (2.4.7)\n",
      "Requirement already satisfied: six>=1.9 in /opt/conda/lib/python3.6/site-packages (from protobuf>=3.1->sagemaker) (1.15.0)\n",
      "Requirement already satisfied: pytz>=2017.2 in /opt/conda/lib/python3.6/site-packages (from pandas->sagemaker) (2021.1)\n",
      "Collecting pox>=0.2.9\n",
      "  Downloading pox-0.2.9-py2.py3-none-any.whl (30 kB)\n",
      "Collecting ppft>=1.6.6.3\n",
      "  Downloading ppft-1.6.6.3-py3-none-any.whl (65 kB)\n",
      "\u001b[K     |████████████████████████████████| 65 kB 463 kB/s  eta 0:00:01\n",
      "\u001b[?25hRequirement already satisfied: dill>=0.3.3 in /opt/conda/lib/python3.6/site-packages (from pathos->sagemaker) (0.3.3)\n",
      "Collecting multiprocess>=0.70.11\n",
      "  Downloading multiprocess-0.70.11.1-py36-none-any.whl (101 kB)\n",
      "\u001b[K     |████████████████████████████████| 101 kB 1.6 MB/s eta 0:00:01\n",
      "\u001b[?25hBuilding wheels for collected packages: sagemaker\n",
      "  Building wheel for sagemaker (setup.py) ... \u001b[?25ldone\n",
      "\u001b[?25h  Created wheel for sagemaker: filename=sagemaker-2.41.0-py2.py3-none-any.whl size=578905 sha256=ee9ba7182328a2504d49a6694498c4c8d78a4178b015e4361140e7e61a4246ef\n",
      "  Stored in directory: /root/.cache/pip/wheels/2a/7b/2b/ed8581237f4eee110d1479919514d76f00a9fb9fe9c1feacde\n",
      "Successfully built sagemaker\n",
      "Installing collected packages: ppft, pox, multiprocess, pathos, sagemaker\n",
      "  Attempting uninstall: sagemaker\n",
      "    Found existing installation: sagemaker 2.35.0\n",
      "    Uninstalling sagemaker-2.35.0:\n",
      "      Successfully uninstalled sagemaker-2.35.0\n",
      "Successfully installed multiprocess-0.70.11.1 pathos-0.2.7 pox-0.2.9 ppft-1.6.6.3 sagemaker-2.41.0\n",
      "SageMaker Execution Role:arn:aws:iam::330733765668:role/sm-vpc-efs-ExecutionRole-1HQF1ZQFVIHPW\n",
      "AWS account:330733765668\n",
      "AWS region:us-west-2\n",
      "CPU times: user 653 ms, sys: 85.4 ms, total: 739 ms\n",
      "Wall time: 5.28 s\n"
     ]
    }
   ],
   "source": [
    "%%time\n",
    "import sys\n",
    "! {sys.executable} -m pip install --upgrade sagemaker\n",
    "import sagemaker\n",
    "from sagemaker import get_execution_role\n",
    "from sagemaker.estimator import Estimator\n",
    "import boto3\n",
    "\n",
    "sagemaker_session = sagemaker.Session()\n",
    "bucket = sagemaker_session.default_bucket()\n",
    "fsx_client = boto3.client('fsx')\n",
    "\n",
    "role = get_execution_role() # provide a pre-existing role ARN as an alternative to creating a new role\n",
    "print(f'SageMaker Execution Role:{role}')\n",
    "\n",
    "client = boto3.client('sts')\n",
    "account = client.get_caller_identity()['Account']\n",
    "print(f'AWS account:{account}')\n",
    "\n",
    "session = boto3.session.Session()\n",
    "region = session.region_name\n",
    "print(f'AWS region:{region}')\n",
    "\n",
    "subnets=['<SUBNET_ID>'] # this will be used for FSx and will be where the training job runs. Example: subnet-0f9XXXX\n",
    "security_group_ids=['<SECURITY_GROUP_ID>'] # Example: sg-03ZZZZZZ"
   ]
  },
  {
   "cell_type": "markdown",
   "metadata": {},
   "source": [
    "## 1. COCO2017データセットの準備\n",
    "\n",
    "[COCO2017](https://cocodataset.org/#home)のデータセットをこのセッションに付随するS3のバケットにダウンロードします。\n",
    "\n",
    "このスクリプトは20分ほど実行に時間がかかります。"
   ]
  },
  {
   "cell_type": "code",
   "execution_count": null,
   "metadata": {},
   "outputs": [
    {
     "name": "stdout",
     "output_type": "stream",
     "text": [
      "Create stage directory: /root/SageMaker/coco-2017-2021-05-24-03-25-19\n",
      "download: s3://fast-ai-coco/train2017.zip to ../SageMaker/coco-2017-2021-05-24-03-25-19/train2017.zip\n",
      "Extracting /root/SageMaker/coco-2017-2021-05-24-03-25-19/train2017.zip\n",
      "============================================================================================================================================================================================================================================Done.\n",
      "download: s3://fast-ai-coco/val2017.zip to ../SageMaker/coco-2017-2021-05-24-03-25-19/val2017.zip\n",
      "Extracting /root/SageMaker/coco-2017-2021-05-24-03-25-19/val2017.zip\n",
      "==========Done.\n",
      "download: s3://fast-ai-coco/annotations_trainval2017.zip to ../SageMaker/coco-2017-2021-05-24-03-25-19/annotations_trainval2017.zip\n",
      "Archive:  /root/SageMaker/coco-2017-2021-05-24-03-25-19/annotations_trainval2017.zip\n",
      "  inflating: /root/SageMaker/coco-2017-2021-05-24-03-25-19/annotations/instances_train2017.json  \n",
      "  inflating: /root/SageMaker/coco-2017-2021-05-24-03-25-19/annotations/instances_val2017.json  \n",
      "  inflating: /root/SageMaker/coco-2017-2021-05-24-03-25-19/annotations/captions_train2017.json  \n",
      "  inflating: /root/SageMaker/coco-2017-2021-05-24-03-25-19/annotations/captions_val2017.json  \n",
      "  inflating: /root/SageMaker/coco-2017-2021-05-24-03-25-19/annotations/person_keypoints_train2017.json  \n",
      "  inflating: /root/SageMaker/coco-2017-2021-05-24-03-25-19/annotations/person_keypoints_val2017.json  \n",
      "Mon May 24 04:43:00 UTC 2021: Uploading extracted files to s3://sagemaker-us-west-2-330733765668/fsx_sync/train-coco/coco [ eta 12 minutes ]\n",
      "================================================================================================================================================================================================================================================================================================================================================================================================================================================================================================================================================================================================================================================================================================================================================================================================================================================================================================================================================================================================================================================================================================================================================================================================================================================================================================================================================================================================================================================================================================================================================================================================================================================================================================================================================================================================================================================================================================================================================================================================================================================================================================================================================================================================================================================================================================================================================================================================================================================================================================================================================================Done.\n",
      "Delete stage directory: /root/SageMaker/coco-2017-2021-05-24-03-25-19\n"
     ]
    }
   ],
   "source": [
    "%%time\n",
    "!bash ./upload_coco2017_to_s3.sh {bucket} fsx_sync/train-coco/coco"
   ]
  },
  {
   "cell_type": "markdown",
   "metadata": {},
   "source": [
    "## 2. SageMakerの実行環境を準備\n",
    "\n",
    "1. デフォルトでSageMakerは最新のPyTorch学習用イメージを[Amazon Deep Learning Container Images (DLC)](https://github.com/aws/deep-learning-containers/blob/master/available_images.md)から使用します。今回は、これをベースイメージとして、MaskRCNNモデルを学習するのに必要な追加のモジュールをインストールしていきます。\n",
    "2. PyTorch-SMDataParallel MaskRCNN学習スクリプトがGitHubレポジトリ https://github.com/HerringForks/DeepLearningExamples.git からダウンロードでき、今回はこれを学習用イメージの上にインストールします。\n",
    "\n",
    "### 2.1. Dockerイメージをビルド・ECRへプッシュ\n",
    "\n",
    "以下のコマンドを実行して、DockerイメージをビルドしてECRへプッシュしてみましょう。"
   ]
  },
  {
   "cell_type": "code",
   "execution_count": 129,
   "metadata": {},
   "outputs": [],
   "source": [
    "image = \"mask-rcnn-smdataparallel-demo\"  # 例: mask-rcnn-smdataparallel-sagemaker\n",
    "tag = \"test0.1\"   # 例: pt1.8 "
   ]
  },
  {
   "cell_type": "code",
   "execution_count": 120,
   "metadata": {},
   "outputs": [
    {
     "name": "stdout",
     "output_type": "stream",
     "text": [
      "\u001b[34mARG\u001b[39;49;00m region\n",
      "\n",
      "\u001b[34mFROM\u001b[39;49;00m \u001b[33m763104351884.dkr.ecr.${region}.amazonaws.com/pytorch-training:1.8.1-gpu-py36-cu111-ubuntu18.04\u001b[39;49;00m\n",
      "\n",
      "\u001b[34mRUN\u001b[39;49;00m pip install ninja yacs cython matplotlib tqdm opencv-python \u001b[31mpybind11\u001b[39;49;00m==\u001b[34m2\u001b[39;49;00m.5.0 \u001b[33m'git+https://github.com/NVIDIA/dllogger'\u001b[39;49;00m\n",
      "\n",
      "\u001b[34mRUN\u001b[39;49;00m pip --no-cache-dir --no-cache install \u001b[33m'git+https://github.com/NVIDIA/cocoapi#egg=pycocotools&subdirectory=PythonAPI'\u001b[39;49;00m\n",
      "\n",
      "\u001b[34mRUN\u001b[39;49;00m \t\u001b[36mcd\u001b[39;49;00m /root && \u001b[33m\\\u001b[39;49;00m\n",
      "\trm -rf apex && \u001b[33m\\\u001b[39;49;00m\n",
      "\tgit clone https://github.com/NVIDIA/apex && \u001b[33m\\\u001b[39;49;00m\n",
      "\t\u001b[36mcd\u001b[39;49;00m apex && \u001b[33m\\\u001b[39;49;00m\n",
      "\tpython setup.py install --cuda_ext --cpp_ext\n",
      "\n",
      "\u001b[34mRUN\u001b[39;49;00m \t\u001b[36mcd\u001b[39;49;00m /root && \u001b[33m\\\u001b[39;49;00m\n",
      "\trm -rf DeepLearningExamples && \u001b[33m\\\u001b[39;49;00m\n",
      "\tgit clone --recursive https://github.com/HerringForks/DeepLearningExamples.git && \u001b[33m\\\u001b[39;49;00m\n",
      "\t\u001b[36mcd\u001b[39;49;00m DeepLearningExamples/PyTorch/Segmentation/MaskRCNN/pytorch/ && \u001b[33m\\\u001b[39;49;00m\n",
      "\tpython setup.py build develop\n"
     ]
    }
   ],
   "source": [
    "!pygmentize ./Dockerfile"
   ]
  },
  {
   "cell_type": "code",
   "execution_count": 121,
   "metadata": {},
   "outputs": [
    {
     "name": "stdout",
     "output_type": "stream",
     "text": [
      "\u001b[37m#!/usr/bin/env bash\u001b[39;49;00m\n",
      "\u001b[37m# This script shows how to build the Docker image and push it to ECR to be ready for use\u001b[39;49;00m\n",
      "\u001b[37m# by SageMaker.\u001b[39;49;00m\n",
      "\u001b[37m# The argument to this script is the image name. This will be used as the image on the local\u001b[39;49;00m\n",
      "\u001b[37m# machine and combined with the account and region to form the repository name for ECR.\u001b[39;49;00m\n",
      "\u001b[37m# set region\u001b[39;49;00m\n",
      "\n",
      "\u001b[31mDIR\u001b[39;49;00m=\u001b[33m\"\u001b[39;49;00m\u001b[34m$(\u001b[39;49;00m \u001b[36mcd\u001b[39;49;00m \u001b[33m\"\u001b[39;49;00m\u001b[34m$(\u001b[39;49;00m dirname \u001b[33m\"\u001b[39;49;00m\u001b[33m${\u001b[39;49;00m\u001b[31mBASH_SOURCE\u001b[39;49;00m[0]\u001b[33m}\u001b[39;49;00m\u001b[33m\"\u001b[39;49;00m \u001b[34m)\u001b[39;49;00m\u001b[33m\"\u001b[39;49;00m && \u001b[36mpwd\u001b[39;49;00m \u001b[34m)\u001b[39;49;00m\u001b[33m\"\u001b[39;49;00m\n",
      "\n",
      "\u001b[34mif\u001b[39;49;00m [ \u001b[33m\"\u001b[39;49;00m\u001b[31m$#\u001b[39;49;00m\u001b[33m\"\u001b[39;49;00m -eq \u001b[34m3\u001b[39;49;00m ]; \u001b[34mthen\u001b[39;49;00m\n",
      "    \u001b[31mregion\u001b[39;49;00m=\u001b[31m$1\u001b[39;49;00m\n",
      "    \u001b[31mimage\u001b[39;49;00m=\u001b[31m$2\u001b[39;49;00m\n",
      "    \u001b[31mtag\u001b[39;49;00m=\u001b[31m$3\u001b[39;49;00m\n",
      "\u001b[34melse\u001b[39;49;00m\n",
      "    \u001b[36mecho\u001b[39;49;00m \u001b[33m\"\u001b[39;49;00m\u001b[33musage: \u001b[39;49;00m\u001b[31m$0\u001b[39;49;00m\u001b[33m <aws-region> \u001b[39;49;00m\u001b[31m$1\u001b[39;49;00m\u001b[33m <image-repo> \u001b[39;49;00m\u001b[31m$2\u001b[39;49;00m\u001b[33m <image-tag>\u001b[39;49;00m\u001b[33m\"\u001b[39;49;00m\n",
      "    \u001b[36mexit\u001b[39;49;00m \u001b[34m1\u001b[39;49;00m\n",
      "\u001b[34mfi\u001b[39;49;00m\n",
      "\n",
      "\u001b[37m# Get the account number associated with the current IAM credentials\u001b[39;49;00m\n",
      "\u001b[37m# account=$(aws sts get-caller-identity --query Account --output text)\u001b[39;49;00m\n",
      "\u001b[31mAWS_ACCOUNT_ID\u001b[39;49;00m=\u001b[34m$(\u001b[39;49;00maws sts get-caller-identity --query Account --output text\u001b[34m)\u001b[39;49;00m\n",
      "\u001b[31mAWS_DEFAULT_REGION\u001b[39;49;00m=\u001b[31m$region\u001b[39;49;00m\n",
      "\u001b[31mIMAGE_REPO_NAME\u001b[39;49;00m=\u001b[31m$image\u001b[39;49;00m\n",
      "\u001b[31mIMAGE_TAG\u001b[39;49;00m=\u001b[31m$tag\u001b[39;49;00m\n",
      "\n",
      "\u001b[34mif\u001b[39;49;00m [ \u001b[31m$?\u001b[39;49;00m -ne \u001b[34m0\u001b[39;49;00m ]\n",
      "\u001b[34mthen\u001b[39;49;00m\n",
      "    \u001b[36mexit\u001b[39;49;00m \u001b[34m255\u001b[39;49;00m\n",
      "\u001b[34mfi\u001b[39;49;00m\n",
      "\n",
      "\n",
      "\u001b[37m# fullname=\"${account}.dkr.ecr.${region}.amazonaws.com/${image}:${tag}\"\u001b[39;49;00m\n",
      "\u001b[31mfullname\u001b[39;49;00m=\u001b[33m\"\u001b[39;49;00m\u001b[33m{\u001b[39;49;00m\u001b[31m$AWS_ACCOUNT_ID\u001b[39;49;00m\u001b[33m}.dkr.ecr.{\u001b[39;49;00m\u001b[31m$AWS_DEFAULT_REGION\u001b[39;49;00m\u001b[33m}.amazonaws.com/{\u001b[39;49;00m\u001b[31m$IMAGE_REPO_NAME\u001b[39;49;00m\u001b[33m}:{\u001b[39;49;00m\u001b[31m$IMAGE_TAG\u001b[39;49;00m\u001b[33m}\u001b[39;49;00m\u001b[33m\"\u001b[39;49;00m\n",
      "\n",
      "\u001b[37m# If the repository doesn't exist in ECR, create it.\u001b[39;49;00m\n",
      "aws ecr describe-repositories --region \u001b[33m${\u001b[39;49;00m\u001b[31mregion\u001b[39;49;00m\u001b[33m}\u001b[39;49;00m --repository-names \u001b[33m\"\u001b[39;49;00m\u001b[33m${\u001b[39;49;00m\u001b[31mimage\u001b[39;49;00m\u001b[33m}\u001b[39;49;00m\u001b[33m\"\u001b[39;49;00m > /dev/null \u001b[34m2\u001b[39;49;00m>&\u001b[34m1\u001b[39;49;00m\n",
      "\u001b[34mif\u001b[39;49;00m [ \u001b[31m$?\u001b[39;49;00m -ne \u001b[34m0\u001b[39;49;00m ]; \u001b[34mthen\u001b[39;49;00m\n",
      "    \u001b[36mecho\u001b[39;49;00m \u001b[33m\"\u001b[39;49;00m\u001b[33mcreating ECR repository : \u001b[39;49;00m\u001b[33m${\u001b[39;49;00m\u001b[31mfullname\u001b[39;49;00m\u001b[33m}\u001b[39;49;00m\u001b[33m \u001b[39;49;00m\u001b[33m\"\u001b[39;49;00m\n",
      "    aws ecr create-repository --region \u001b[33m${\u001b[39;49;00m\u001b[31mregion\u001b[39;49;00m\u001b[33m}\u001b[39;49;00m --repository-name \u001b[33m\"\u001b[39;49;00m\u001b[33m${\u001b[39;49;00m\u001b[31mimage\u001b[39;49;00m\u001b[33m}\u001b[39;49;00m\u001b[33m\"\u001b[39;49;00m > /dev/null\n",
      "\u001b[34mfi\u001b[39;49;00m\n",
      "\n",
      "\u001b[37m# Get the login command from ECR and execute it directly\u001b[39;49;00m\n",
      "\u001b[34m$(\u001b[39;49;00maws ecr get-login --region \u001b[33m${\u001b[39;49;00m\u001b[31mregion\u001b[39;49;00m\u001b[33m}\u001b[39;49;00m --no-include-email\u001b[34m)\u001b[39;49;00m\n",
      "\n",
      "\u001b[34m$(\u001b[39;49;00maws ecr get-login --no-include-email --region \u001b[33m${\u001b[39;49;00m\u001b[31mregion\u001b[39;49;00m\u001b[33m}\u001b[39;49;00m  --registry-ids \u001b[34m763104351884\u001b[39;49;00m\u001b[34m)\u001b[39;49;00m\n",
      "sm-docker build \u001b[33m${\u001b[39;49;00m\u001b[31mDIR\u001b[39;49;00m\u001b[33m}\u001b[39;49;00m/ -t \u001b[33m${\u001b[39;49;00m\u001b[31mimage\u001b[39;49;00m\u001b[33m}\u001b[39;49;00m -f \u001b[33m${\u001b[39;49;00m\u001b[31mDIR\u001b[39;49;00m\u001b[33m}\u001b[39;49;00m/Dockerfile  --build-arg \u001b[31mregion\u001b[39;49;00m=\u001b[33m${\u001b[39;49;00m\u001b[31mregion\u001b[39;49;00m\u001b[33m}\u001b[39;49;00m\n",
      "\u001b[37m# docker tag ${image} ${fullname}\u001b[39;49;00m\n",
      "\n",
      "\u001b[37m# docker push ${fullname}\u001b[39;49;00m\n",
      "\u001b[34mif\u001b[39;49;00m [ \u001b[31m$?\u001b[39;49;00m -eq \u001b[34m0\u001b[39;49;00m ]; \u001b[34mthen\u001b[39;49;00m\n",
      "\t\u001b[36mecho\u001b[39;49;00m \u001b[33m\"\u001b[39;49;00m\u001b[33mAmazon ECR URI: \u001b[39;49;00m\u001b[33m${\u001b[39;49;00m\u001b[31mfullname\u001b[39;49;00m\u001b[33m}\u001b[39;49;00m\u001b[33m\"\u001b[39;49;00m\n",
      "\u001b[34melse\u001b[39;49;00m\n",
      "\t\u001b[36mecho\u001b[39;49;00m \u001b[33m\"Error: Image build and push failed\"\u001b[39;49;00m\n",
      "\t\u001b[36mexit\u001b[39;49;00m \u001b[34m1\u001b[39;49;00m\n",
      "\u001b[34mfi\u001b[39;49;00m\n"
     ]
    }
   ],
   "source": [
    "!pygmentize ./build_and_push.sh"
   ]
  },
  {
   "cell_type": "code",
   "execution_count": 122,
   "metadata": {},
   "outputs": [
    {
     "name": "stdout",
     "output_type": "stream",
     "text": [
      "Requirement already satisfied: sagemaker-studio-image-build in /opt/conda/lib/python3.6/site-packages (0.6.0)\n",
      "Requirement already satisfied: boto3<2.0,>=1.10.44 in /opt/conda/lib/python3.6/site-packages (from sagemaker-studio-image-build) (1.17.52)\n",
      "Requirement already satisfied: sagemaker<3.0 in /opt/conda/lib/python3.6/site-packages (from sagemaker-studio-image-build) (2.41.0)\n",
      "Requirement already satisfied: botocore<1.21.0,>=1.20.52 in /opt/conda/lib/python3.6/site-packages (from boto3<2.0,>=1.10.44->sagemaker-studio-image-build) (1.20.52)\n",
      "Requirement already satisfied: s3transfer<0.4.0,>=0.3.0 in /opt/conda/lib/python3.6/site-packages (from boto3<2.0,>=1.10.44->sagemaker-studio-image-build) (0.3.7)\n",
      "Requirement already satisfied: jmespath<1.0.0,>=0.7.1 in /opt/conda/lib/python3.6/site-packages (from boto3<2.0,>=1.10.44->sagemaker-studio-image-build) (0.10.0)\n",
      "Requirement already satisfied: python-dateutil<3.0.0,>=2.1 in /opt/conda/lib/python3.6/site-packages (from botocore<1.21.0,>=1.20.52->boto3<2.0,>=1.10.44->sagemaker-studio-image-build) (2.8.1)\n",
      "Requirement already satisfied: urllib3<1.27,>=1.25.4 in /opt/conda/lib/python3.6/site-packages (from botocore<1.21.0,>=1.20.52->boto3<2.0,>=1.10.44->sagemaker-studio-image-build) (1.25.11)\n",
      "Requirement already satisfied: six>=1.5 in /opt/conda/lib/python3.6/site-packages (from python-dateutil<3.0.0,>=2.1->botocore<1.21.0,>=1.20.52->boto3<2.0,>=1.10.44->sagemaker-studio-image-build) (1.15.0)\n",
      "Requirement already satisfied: pathos in /opt/conda/lib/python3.6/site-packages (from sagemaker<3.0->sagemaker-studio-image-build) (0.2.7)\n",
      "Requirement already satisfied: protobuf3-to-dict>=0.1.5 in /opt/conda/lib/python3.6/site-packages (from sagemaker<3.0->sagemaker-studio-image-build) (0.1.5)\n",
      "Requirement already satisfied: protobuf>=3.1 in /opt/conda/lib/python3.6/site-packages (from sagemaker<3.0->sagemaker-studio-image-build) (3.15.8)\n",
      "Requirement already satisfied: pandas in /opt/conda/lib/python3.6/site-packages (from sagemaker<3.0->sagemaker-studio-image-build) (1.1.5)\n",
      "Requirement already satisfied: numpy>=1.9.0 in /opt/conda/lib/python3.6/site-packages (from sagemaker<3.0->sagemaker-studio-image-build) (1.19.1)\n",
      "Requirement already satisfied: google-pasta in /opt/conda/lib/python3.6/site-packages (from sagemaker<3.0->sagemaker-studio-image-build) (0.2.0)\n",
      "Requirement already satisfied: packaging>=20.0 in /opt/conda/lib/python3.6/site-packages (from sagemaker<3.0->sagemaker-studio-image-build) (20.9)\n",
      "Requirement already satisfied: importlib-metadata>=1.4.0 in /opt/conda/lib/python3.6/site-packages (from sagemaker<3.0->sagemaker-studio-image-build) (3.2.0)\n",
      "Requirement already satisfied: attrs in /opt/conda/lib/python3.6/site-packages (from sagemaker<3.0->sagemaker-studio-image-build) (20.3.0)\n",
      "Requirement already satisfied: smdebug-rulesconfig==1.0.1 in /opt/conda/lib/python3.6/site-packages (from sagemaker<3.0->sagemaker-studio-image-build) (1.0.1)\n",
      "Requirement already satisfied: typing-extensions>=3.6.4 in /opt/conda/lib/python3.6/site-packages (from importlib-metadata>=1.4.0->sagemaker<3.0->sagemaker-studio-image-build) (3.7.4.3)\n",
      "Requirement already satisfied: zipp>=0.5 in /opt/conda/lib/python3.6/site-packages (from importlib-metadata>=1.4.0->sagemaker<3.0->sagemaker-studio-image-build) (3.4.1)\n",
      "Requirement already satisfied: pyparsing>=2.0.2 in /opt/conda/lib/python3.6/site-packages (from packaging>=20.0->sagemaker<3.0->sagemaker-studio-image-build) (2.4.7)\n",
      "Requirement already satisfied: pytz>=2017.2 in /opt/conda/lib/python3.6/site-packages (from pandas->sagemaker<3.0->sagemaker-studio-image-build) (2021.1)\n",
      "Requirement already satisfied: dill>=0.3.3 in /opt/conda/lib/python3.6/site-packages (from pathos->sagemaker<3.0->sagemaker-studio-image-build) (0.3.3)\n",
      "Requirement already satisfied: ppft>=1.6.6.3 in /opt/conda/lib/python3.6/site-packages (from pathos->sagemaker<3.0->sagemaker-studio-image-build) (1.6.6.3)\n",
      "Requirement already satisfied: multiprocess>=0.70.11 in /opt/conda/lib/python3.6/site-packages (from pathos->sagemaker<3.0->sagemaker-studio-image-build) (0.70.11.1)\n",
      "Requirement already satisfied: pox>=0.2.9 in /opt/conda/lib/python3.6/site-packages (from pathos->sagemaker<3.0->sagemaker-studio-image-build) (0.2.9)\n"
     ]
    }
   ],
   "source": [
    "# SageMaker Studio上でDocker buildを行うためのモジュールをインストール\n",
    "! pip install sagemaker-studio-image-build"
   ]
  },
  {
   "cell_type": "code",
   "execution_count": 130,
   "metadata": {},
   "outputs": [
    {
     "name": "stdout",
     "output_type": "stream",
     "text": [
      "...[Container] 2021/05/25 00:54:42 Waiting for agent ping\n",
      "\n",
      "[Container] 2021/05/25 00:54:45 Waiting for DOWNLOAD_SOURCE\n",
      "[Container] 2021/05/25 00:54:46 Phase is DOWNLOAD_SOURCE\n",
      "[Container] 2021/05/25 00:54:46 CODEBUILD_SRC_DIR=/codebuild/output/src062085026/src\n",
      "[Container] 2021/05/25 00:54:46 YAML location is /codebuild/output/src062085026/src/buildspec.yml\n",
      "[Container] 2021/05/25 00:54:46 Processing environment variables\n",
      "[Container] 2021/05/25 00:54:46 No runtime version selected in buildspec.\n",
      "[Container] 2021/05/25 00:54:46 Moving to directory /codebuild/output/src062085026/src\n",
      "[Container] 2021/05/25 00:54:46 Registering with agent\n",
      "[Container] 2021/05/25 00:54:46 Phases found in YAML: 3\n",
      "[Container] 2021/05/25 00:54:46  PRE_BUILD: 9 commands\n",
      "[Container] 2021/05/25 00:54:46  BUILD: 4 commands\n",
      "[Container] 2021/05/25 00:54:46  POST_BUILD: 3 commands\n",
      "[Container] 2021/05/25 00:54:46 Phase complete: DOWNLOAD_SOURCE State: SUCCEEDED\n",
      "[Container] 2021/05/25 00:54:46 Phase context status code:  Message:\n",
      "[Container] 2021/05/25 00:54:46 Entering phase INSTALL\n",
      "[Container] 2021/05/25 00:54:46 Phase complete: INSTALL State: SUCCEEDED\n",
      "[Container] 2021/05/25 00:54:46 Phase context status code:  Message:\n",
      "[Container] 2021/05/25 00:54:46 Entering phase PRE_BUILD\n",
      "[Container] 2021/05/25 00:54:46 Running command echo Logging in to Amazon ECR...\n",
      "Logging in to Amazon ECR...\n",
      "\n",
      "[Container] 2021/05/25 00:54:46 Running command $(aws ecr get-login --no-include-email --region $AWS_DEFAULT_REGION)\n",
      "WARNING! Using --password via the CLI is insecure. Use --password-stdin.\n",
      "WARNING! Your password will be stored unencrypted in /root/.docker/config.json.\n",
      "Configure a credential helper to remove this warning. See\n",
      "https://docs.docker.com/engine/reference/commandline/login/#credentials-store\n",
      "\n",
      "Login Succeeded\n",
      "\n",
      "[Container] 2021/05/25 00:54:52 Running command $(aws ecr get-login --no-include-email --region $AWS_DEFAULT_REGION --registry-ids 763104351884)\n",
      "WARNING! Using --password via the CLI is insecure. Use --password-stdin.\n",
      "WARNING! Your password will be stored unencrypted in /root/.docker/config.json.\n",
      "Configure a credential helper to remove this warning. See\n",
      "https://docs.docker.com/engine/reference/commandline/login/#credentials-store\n",
      "\n",
      "Login Succeeded\n",
      "\n",
      "[Container] 2021/05/25 00:54:53 Running command $(aws ecr get-login --no-include-email --region $AWS_DEFAULT_REGION --registry-ids 217643126080)\n",
      "WARNING! Using --password via the CLI is insecure. Use --password-stdin.\n",
      "WARNING! Your password will be stored unencrypted in /root/.docker/config.json.\n",
      "Configure a credential helper to remove this warning. See\n",
      "https://docs.docker.com/engine/reference/commandline/login/#credentials-store\n",
      "\n",
      "Login Succeeded\n",
      "\n",
      "[Container] 2021/05/25 00:54:54 Running command $(aws ecr get-login --no-include-email --region $AWS_DEFAULT_REGION --registry-ids 727897471807)\n",
      "WARNING! Using --password via the CLI is insecure. Use --password-stdin.\n",
      "WARNING! Your password will be stored unencrypted in /root/.docker/config.json.\n",
      "Configure a credential helper to remove this warning. See\n",
      "https://docs.docker.com/engine/reference/commandline/login/#credentials-store\n",
      "\n",
      "Login Succeeded\n",
      "\n",
      "[Container] 2021/05/25 00:54:54 Running command $(aws ecr get-login --no-include-email --region $AWS_DEFAULT_REGION --registry-ids 626614931356)\n",
      "WARNING! Using --password via the CLI is insecure. Use --password-stdin.\n",
      "WARNING! Your password will be stored unencrypted in /root/.docker/config.json.\n",
      "Configure a credential helper to remove this warning. See\n",
      "https://docs.docker.com/engine/reference/commandline/login/#credentials-store\n",
      "\n",
      "Login Succeeded\n",
      "\n",
      "[Container] 2021/05/25 00:54:55 Running command $(aws ecr get-login --no-include-email --region $AWS_DEFAULT_REGION --registry-ids 683313688378)\n",
      "WARNING! Using --password via the CLI is insecure. Use --password-stdin.\n",
      "WARNING! Your password will be stored unencrypted in /root/.docker/config.json.\n",
      "Configure a credential helper to remove this warning. See\n",
      "https://docs.docker.com/engine/reference/commandline/login/#credentials-store\n",
      "\n",
      "Login Succeeded\n",
      "\n",
      "[Container] 2021/05/25 00:54:55 Running command $(aws ecr get-login --no-include-email --region $AWS_DEFAULT_REGION --registry-ids 520713654638)\n",
      "WARNING! Using --password via the CLI is insecure. Use --password-stdin.\n",
      "WARNING! Your password will be stored unencrypted in /root/.docker/config.json.\n",
      "Configure a credential helper to remove this warning. See\n",
      "https://docs.docker.com/engine/reference/commandline/login/#credentials-store\n",
      "\n",
      "Login Succeeded\n",
      "\n",
      "[Container] 2021/05/25 00:54:56 Running command $(aws ecr get-login --no-include-email --region $AWS_DEFAULT_REGION --registry-ids 462105765813)\n",
      "WARNING! Using --password via the CLI is insecure. Use --password-stdin.\n",
      "WARNING! Your password will be stored unencrypted in /root/.docker/config.json.\n",
      "Configure a credential helper to remove this warning. See\n",
      "https://docs.docker.com/engine/reference/commandline/login/#credentials-store\n",
      "\n",
      "Login Succeeded\n",
      "\n",
      "[Container] 2021/05/25 00:54:56 Phase complete: PRE_BUILD State: SUCCEEDED\n",
      "[Container] 2021/05/25 00:54:56 Phase context status code:  Message:\n",
      "[Container] 2021/05/25 00:54:56 Entering phase BUILD\n",
      "[Container] 2021/05/25 00:54:56 Running command echo Build started on `date`\n",
      "Build started on Tue May 25 00:54:56 UTC 2021\n",
      "\n",
      "[Container] 2021/05/25 00:54:56 Running command echo Building the Docker image...\n",
      "Building the Docker image...\n",
      "\n",
      "[Container] 2021/05/25 00:54:56 Running command docker build -t $IMAGE_REPO_NAME:$IMAGE_TAG /root/dist-training-profile/ -t mask-rcnn-smdataparallel-demo -f /root/dist-training-profile/Dockerfile --build-arg region=us-west-2\n",
      "unable to prepare context: path \"/root/dist-training-profile/\" not found\n",
      "\n",
      "[Container] 2021/05/25 00:54:56 Command did not exit successfully docker build -t $IMAGE_REPO_NAME:$IMAGE_TAG /root/dist-training-profile/ -t mask-rcnn-smdataparallel-demo -f /root/dist-training-profile/Dockerfile --build-arg region=us-west-2 exit status 1\n",
      "[Container] 2021/05/25 00:54:56 Phase complete: BUILD State: FAILED\n",
      "[Container] 2021/05/25 00:54:56 Phase context status code: COMMAND_EXECUTION_ERROR Message: Error while executing command: docker build -t $IMAGE_REPO_NAME:$IMAGE_TAG /root/dist-training-profile/ -t mask-rcnn-smdataparallel-demo -f /root/dist-training-profile/Dockerfile --build-arg region=us-west-2. Reason: exit status 1\n",
      "[Container] 2021/05/25 00:54:56 Entering phase POST_BUILD\n",
      "[Container] 2021/05/25 00:54:56 Running command echo Build completed on `date`\n",
      "Build completed on Tue May 25 00:54:56 UTC 2021\n",
      "\n",
      "[Container] 2021/05/25 00:54:56 Running command echo Pushing the Docker image...\n",
      "Pushing the Docker image...\n",
      "\n",
      "[Container] 2021/05/25 00:54:56 Running command docker push $AWS_ACCOUNT_ID.dkr.ecr.$AWS_DEFAULT_REGION.amazonaws.com/$IMAGE_REPO_NAME:$IMAGE_TAG\n",
      "The push refers to repository [330733765668.dkr.ecr.us-west-2.amazonaws.com/mask-rcnn-smdataparallel-demo]\n",
      "An image does not exist locally with the tag: 330733765668.dkr.ecr.us-west-2.amazonaws.com/mask-rcnn-smdataparallel-demo\n",
      "\n",
      "[Container] 2021/05/25 00:54:56 Command did not exit successfully docker push $AWS_ACCOUNT_ID.dkr.ecr.$AWS_DEFAULT_REGION.amazonaws.com/$IMAGE_REPO_NAME:$IMAGE_TAG exit status 1\n",
      "[Container] 2021/05/25 00:54:56 Phase complete: POST_BUILD State: FAILED\n",
      "[Container] 2021/05/25 00:54:56 Phase context status code: COMMAND_EXECUTION_ERROR Message: Error while executing command: docker push $AWS_ACCOUNT_ID.dkr.ecr.$AWS_DEFAULT_REGION.amazonaws.com/$IMAGE_REPO_NAME:$IMAGE_TAG. Reason: exit status 1\n",
      "\n",
      "Image URI: 330733765668.dkr.ecr.us-west-2.amazonaws.com/mask-rcnn-smdataparallel-demo:test0.1\n",
      "Amazon ECR URI: 330733765668.dkr.ecr.us-west-2.amazonaws.com/mask-rcnn-smdataparallel-demo:test0.1\n",
      "CPU times: user 679 ms, sys: 205 ms, total: 884 ms\n",
      "Wall time: 1min 25s\n"
     ]
    }
   ],
   "source": [
    "%%time\n",
    "! chmod +x build_and_push.sh; bash build_and_push.sh {region} {image} {tag}"
   ]
  },
  {
   "cell_type": "markdown",
   "metadata": {},
   "source": [
    "### 2.2. 閉域網内で学習・推論する場合\n",
    "\n",
    "学習・推論を閉域網(VPC)内で、インターネットを介さない状態で実行する必要がある場合、以下のコマンドであらかじめベースとなるモデルをダウンロードする必要がある。"
   ]
  },
  {
   "cell_type": "code",
   "execution_count": null,
   "metadata": {},
   "outputs": [],
   "source": [
    "# !wget https://dl.fbaipublicfiles.com/detectron/ImageNetPretrained/MSRA/R-50.pkl \n",
    "# !aws s3 cp R-50.pkl s3://{bucket}/pretrained_weights/R-50.pkl"
   ]
  },
  {
   "cell_type": "markdown",
   "metadata": {},
   "source": [
    "### 2.3. 学習時に収集するメトリクスを定義する\n",
    "\n",
    "学習ジョブの状態をよく把握するために、アルゴリズムに対するメトリクスを定義します。SageMakerは学習ジョブのログをスクレープして、学習ジョブのコンソールまたはSageMaker Experimentsに吐き出します。\n",
    "\n",
    "以下のように正規表現でフィルターをかけ、追跡したいメトリクスを定義します。"
   ]
  },
  {
   "cell_type": "code",
   "execution_count": null,
   "metadata": {},
   "outputs": [],
   "source": [
    "metric_definitions=[{\n",
    "        \"Name\": \"loss\",\n",
    "        \"Regex\": \".*loss:\\s([0-9\\\\.]+)\\s*\"\n",
    "    },\n",
    "    {\n",
    "        \"Name\": \"loss_classifier\",\n",
    "        \"Regex\": \".*loss_cls:\\s([0-9\\\\.]+)\\s*\"\n",
    "    },\n",
    "    {\n",
    "        \"Name\": \"loss_box_reg\",\n",
    "        \"Regex\": \".*loss_box_reg:\\s([0-9\\\\.]+)\\s*\"\n",
    "    },\n",
    "    {\n",
    "        \"Name\": \"loss_mask\",\n",
    "        \"Regex\": \".*loss_mask:\\s([0-9\\\\.]+)\\s*\"\n",
    "    },\n",
    "    {\n",
    "        \"Name\": \"loss_objectness\",\n",
    "        \"Regex\": \".*loss_objectness:\\s([0-9\\\\.]+)\\s*\"\n",
    "    },\n",
    "    {\n",
    "        \"Name\": \"loss_rpn_box_reg\",\n",
    "        \"Regex\": \".*loss_rpn_box_reg:\\s([0-9\\\\.]+)\\s*\"\n",
    "    }, \n",
    "    {\n",
    "        \"Name\": \"overall_training_speed\",\n",
    "        \"Regex\": \".*Overall training speed:\\s([0-9\\\\.]+)\\s*\"\n",
    "    },\n",
    "    {\n",
    "        \"Name\": \"lr\",  \n",
    "        \"Regex\": \".*lr:\\s([0-9\\\\.]+)\\s*\"\n",
    "    },\n",
    "    {\n",
    "        \"Name\": \"iter\",  \n",
    "        \"Regex\": \".*iter:\\s([0-9\\\\.]+)\\s*\"\n",
    "    },\n",
    "    {\n",
    "        \"Name\": \"avg iter/s\",  \n",
    "        \"Regex\": \".*avg iter/s:\\s([0-9\\\\.]+)\\s*\"\n",
    "    },\n",
    "\n",
    "]"
   ]
  },
  {
   "cell_type": "markdown",
   "metadata": {},
   "source": [
    "## 3. インスタンス１つで学習してみる\n",
    "\n",
    "<インスタンス１つで学習を回すのにかかる時間とスクショ>\n",
    "\n",
    "`Estimator`というクラス（を継承した`PyTorch`クラス）に対して、学習ジョブで使うインスタンスの種類と数を選びます。ここでは、まず１つのインスタンスで学習ジョブを実行して、どのくらいの時間がかかるかみてみましょう。"
   ]
  },
  {
   "cell_type": "code",
   "execution_count": null,
   "metadata": {},
   "outputs": [],
   "source": [
    "import os\n",
    "import time\n",
    "from sagemaker.pytorch import PyTorch\n",
    "from sagemaker.debugger import ProfilerConfig"
   ]
  },
  {
   "cell_type": "code",
   "execution_count": null,
   "metadata": {},
   "outputs": [],
   "source": [
    "# SageMaker Debuggerを活用するため\n",
    "profiler_config = ProfilerConfig(system_monitor_interval_millis=500)"
   ]
  },
  {
   "cell_type": "code",
   "execution_count": null,
   "metadata": {},
   "outputs": [],
   "source": [
    "instance_type = \"ml.p3dn.24xlarge\" # Other supported instance type: ml.p3.16xlarge, ml.p4d.24xlarge\n",
    "instance_count = 1 # You can use 2, 4, 8 etc.\n",
    "docker_image = f\"{account}.dkr.ecr.{region}.amazonaws.com/{image}:{tag}\" # YOUR_ECR_IMAGE_BUILT_WITH_ABOVE_DOCKER_FILE\n",
    "username = 'AWS'\n",
    "job_name = f'pytorch-smdataparallel-mrcnn-fsx-{int(time.time())}' # This job name is used as prefix to the sagemaker training job. Makes it easy for your look for your training job in SageMaker Training job console.\n",
    "config_file = 'e2e_mask_rcnn_R_50_FPN_1x_16GPU_4bs.yaml'"
   ]
  },
  {
   "cell_type": "code",
   "execution_count": null,
   "metadata": {},
   "outputs": [],
   "source": [
    "hyperparameters = {\n",
    " \"config-file\": config_file,\n",
    " \"skip-test\": \"\",\n",
    " \"seed\": 987,\n",
    " \"dtype\": \"float16\",\n",
    " \"spot_ckpt\":f\"s3://{bucket}/pretrained_weights/R-50.pkl\", # this is where our script will look for existing weights to initialize the model backbone from.\n",
    "}"
   ]
  },
  {
   "cell_type": "code",
   "execution_count": null,
   "metadata": {},
   "outputs": [],
   "source": [
    "estimator = PyTorch(entry_point='train_pytorch_single_maskrcnn.py',\n",
    "                    role=role,\n",
    "                    image_uri=docker_image,\n",
    "                    source_dir='.',\n",
    "                    instance_count=instance_count,\n",
    "                    instance_type=instance_type,\n",
    "                    framework_version='1.8.0',\n",
    "                    py_version='py36',\n",
    "                    sagemaker_session=sagemaker_session,\n",
    "                    metric_definitions = metric_definitions,\n",
    "                    hyperparameters=hyperparameters, \n",
    "                    subnets=subnets, \n",
    "                    security_group_ids=security_group_ids,\n",
    "                    debugger_hook_config=False,\n",
    "                    profiler_config=profiler_config,\n",
    "                   )"
   ]
  },
  {
   "cell_type": "markdown",
   "metadata": {},
   "source": [
    "### 3.1 SageMaker Debuggerでプロファイリングする"
   ]
  },
  {
   "cell_type": "markdown",
   "metadata": {},
   "source": [
    "## 4. 分散学習用のコードを追加する\n",
    "\n",
    "どこの行に何を追加するのか\n",
    "\n",
    "また、それはなぜか\n"
   ]
  },
  {
   "cell_type": "markdown",
   "metadata": {},
   "source": [
    "## 5. 1つのインスタンスにある複数GPUをフル活用して分散学習\n",
    "\n"
   ]
  },
  {
   "cell_type": "markdown",
   "metadata": {},
   "source": [
    "### 5.1 プロファイリングしてボトルネックを探す\n",
    "\n",
    "ここでIOとコンピュートにボトルネック発見"
   ]
  },
  {
   "cell_type": "markdown",
   "metadata": {},
   "source": [
    "## 6. FSx for Lustreを使ってIOを加速する\n",
    "\n",
    "FSx for Lustreを配置するためのVPCサブネットとセキュリティグループを設定して以下に入力する。"
   ]
  },
  {
   "cell_type": "code",
   "execution_count": null,
   "metadata": {},
   "outputs": [],
   "source": [
    "subnets=['<SUBNET_ID>'] # this will be used for FSx and will be where the training job runs. Example: subnet-0f9XXXX\n",
    "security_group_ids=['<SECURITY_GROUP_ID>'] # Example: sg-03ZZZZZZ"
   ]
  },
  {
   "cell_type": "code",
   "execution_count": null,
   "metadata": {},
   "outputs": [],
   "source": [
    "# use boto3 to create FSx \n",
    "\n",
    "fsx_response = fsx_client.create_file_system(\n",
    "      FileSystemType='LUSTRE',\n",
    "      StorageCapacity=1200,\n",
    "      StorageType='SSD',\n",
    "      SubnetIds= subnets,\n",
    "      SecurityGroupIds= security_group_ids,\n",
    "      Tags=[\n",
    "          {\n",
    "              'Key': 'Name',\n",
    "              'Value': 'COCO-storage'\n",
    "          },\n",
    "      ],\n",
    "      LustreConfiguration={\n",
    "          'WeeklyMaintenanceStartTime': '7:03:00',\n",
    "          'ImportPath': f's3://{bucket}/fsx_sync/', # where FSx will import data from in s3, can do entire bucket or a specific folder\n",
    "          'ImportedFileChunkSize': 1024,\n",
    "          'DeploymentType': 'PERSISTENT_1', # |'SCRATCH_1' |'SCRATCH_2' # PERSISTENT means the storage in FSx will be persistent, SCRATCH indicates the storage is temporary\n",
    "          'AutoImportPolicy': 'NEW', # 'NONE'| |'NEW_CHANGED' # this policy is how often data will be imported to FSx from S3\n",
    "          'PerUnitStorageThroughput':200 # this is specific to PERSISTENT storage, not required for temporary\n",
    "      }\n",
    "  )\n",
    "\n",
    "fsx_response"
   ]
  },
  {
   "cell_type": "code",
   "execution_count": null,
   "metadata": {},
   "outputs": [],
   "source": [
    "file_system_id= fsx_response['FileSystem']['FileSystemId'] # FSx file system ID with your training dataset. Example: 'fs-0bYYYYYY'"
   ]
  },
  {
   "cell_type": "code",
   "execution_count": null,
   "metadata": {},
   "outputs": [],
   "source": [
    "estimator = PyTorch(entry_point='train_pytorch_smdataparallel_maskrcnn.py',\n",
    "                    role=role,\n",
    "                    image_uri=docker_image,\n",
    "                    source_dir='.',\n",
    "                    instance_count=instance_count,\n",
    "                    instance_type=instance_type,\n",
    "                    framework_version='1.8.0',\n",
    "                    py_version='py36',\n",
    "                    sagemaker_session=sagemaker_session,\n",
    "                    metric_definitions = metric_definitions,\n",
    "                    hyperparameters=hyperparameters, \n",
    "                    subnets=subnets, \n",
    "                    security_group_ids=security_group_ids,\n",
    "                    debugger_hook_config=False,\n",
    "                    # Training using SMDataParallel Distributed Training Framework\n",
    "                    distribution={'smdistributed':{\n",
    "                                    'dataparallel':{\n",
    "                                            'enabled': True\n",
    "                                         }\n",
    "                                      }\n",
    "                                  }\n",
    "           )"
   ]
  },
  {
   "cell_type": "code",
   "execution_count": null,
   "metadata": {},
   "outputs": [],
   "source": [
    "# Configure FSx Input for your SageMaker Training job\n",
    "\n",
    "from sagemaker.inputs import FileSystemInput\n",
    "file_system_directory_path= 'YOUR_MOUNT_PATH_FOR_TRAINING_DATA' # NOTE: '/fsx/' will be the root mount path. Example: '/fsx/mask_rcnn/PyTorch'\n",
    "file_system_access_mode='ro'\n",
    "file_system_type='FSxLustre'\n",
    "train_fs = FileSystemInput(file_system_id=file_system_id,\n",
    "                                    file_system_type=file_system_type,\n",
    "                                    directory_path=file_system_directory_path,\n",
    "                                    file_system_access_mode=file_system_access_mode)\n",
    "data_channels = {'train': train_fs}"
   ]
  },
  {
   "cell_type": "code",
   "execution_count": null,
   "metadata": {},
   "outputs": [],
   "source": [
    "# Submit SageMaker training job\n",
    "estimator.fit(inputs=data_channels, job_name=job_name)"
   ]
  },
  {
   "cell_type": "markdown",
   "metadata": {},
   "source": [
    "## 7. 複数インスタンスで分散学習\n",
    "\n",
    "合計は速い？"
   ]
  },
  {
   "cell_type": "code",
   "execution_count": null,
   "metadata": {},
   "outputs": [],
   "source": []
  }
 ],
 "metadata": {
  "instance_type": "ml.g4dn.xlarge",
  "kernelspec": {
   "display_name": "Python 3 (PyTorch 1.6 Python 3.6 GPU Optimized)",
   "language": "python",
   "name": "python3__SAGEMAKER_INTERNAL__arn:aws:sagemaker:us-west-2:236514542706:image/pytorch-1.6-gpu-py36-cu110-ubuntu18.04-v3"
  },
  "language_info": {
   "codemirror_mode": {
    "name": "ipython",
    "version": 3
   },
   "file_extension": ".py",
   "mimetype": "text/x-python",
   "name": "python",
   "nbconvert_exporter": "python",
   "pygments_lexer": "ipython3",
   "version": "3.6.13"
  }
 },
 "nbformat": 4,
 "nbformat_minor": 4
}
